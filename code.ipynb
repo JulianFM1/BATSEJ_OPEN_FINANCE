{
 "cells": [
  {
   "cell_type": "code",
   "execution_count": 21,
   "metadata": {},
   "outputs": [
    {
     "name": "stdout",
     "output_type": "stream",
     "text": [
      "Tablas en la base de datos:\n",
      "apicall\n",
      "commerce\n"
     ]
    }
   ],
   "source": [
    "import sqlite3\n",
    "\n",
    "# Conectar a la base de datos\n",
    "conn = sqlite3.connect('database/database.sqlite')\n",
    "\n",
    "# Crear un cursor para ejecutar consultas\n",
    "cursor = conn.cursor()\n",
    "# Obtener la lista de tablas en la base de datos\n",
    "cursor.execute(\"SELECT name FROM sqlite_master WHERE type='table';\")\n",
    "tablas = cursor.fetchall()\n",
    "\n",
    "# Mostrar las tablas\n",
    "print(\"Tablas en la base de datos:\")\n",
    "for tabla in tablas:\n",
    "    print(tabla[0])"
   ]
  },
  {
   "cell_type": "code",
   "execution_count": 22,
   "metadata": {},
   "outputs": [
    {
     "name": "stdout",
     "output_type": "stream",
     "text": [
      "\n",
      "Columnas en la tabla 'apicall':\n",
      "Nombre: date_api_call, Tipo: TEXT\n",
      "Nombre: commerce_id, Tipo: TEXT\n",
      "Nombre: ask_status, Tipo: TEXT\n",
      "Nombre: is_related, Tipo: REAL\n"
     ]
    }
   ],
   "source": [
    "# Obtener información sobre las columnas de la tabla apicall\n",
    "cursor.execute(f\"PRAGMA table_info({'apicall'});\")\n",
    "columnas = cursor.fetchall()\n",
    "\n",
    "# Mostrar las columnas y sus tipos de datos\n",
    "print(f\"\\nColumnas en la tabla '{'apicall'}':\")\n",
    "for columna in columnas:\n",
    "    print(f\"Nombre: {columna[1]}, Tipo: {columna[2]}\")"
   ]
  },
  {
   "cell_type": "code",
   "execution_count": 16,
   "metadata": {},
   "outputs": [
    {
     "name": "stdout",
     "output_type": "stream",
     "text": [
      "\n",
      "Columnas en la tabla 'commerce':\n",
      "Nombre: commerce_id, Tipo: TEXT\n",
      "Nombre: commerce_nit, Tipo: INTEGER\n",
      "Nombre: commerce_name, Tipo: TEXT\n",
      "Nombre: commerce_status, Tipo: TEXT\n",
      "Nombre: commerce_email, Tipo: TEXT\n"
     ]
    }
   ],
   "source": [
    "# Obtener información sobre las columnas de la tabla commerce\n",
    "cursor.execute(f\"PRAGMA table_info({'commerce'});\")\n",
    "columnas = cursor.fetchall()\n",
    "\n",
    "# Mostrar las columnas y sus tipos de datos\n",
    "print(f\"\\nColumnas en la tabla '{'commerce'}':\")\n",
    "for columna in columnas:\n",
    "    print(f\"Nombre: {columna[1]}, Tipo: {columna[2]}\")"
   ]
  },
  {
   "cell_type": "code",
   "execution_count": 17,
   "metadata": {},
   "outputs": [],
   "source": [
    "import pandas as pd\n",
    "\n",
    "# Cargar los datos de una tabla en un DataFrame\n",
    "query = f\"SELECT * FROM {'apicall'};\"\n",
    "df_apicall = pd.read_sql_query(query, conn)\n",
    "\n",
    "# Cargar los datos de una tabla en un DataFrame\n",
    "query = f\"SELECT * FROM {'commerce'};\"\n",
    "df_commerce = pd.read_sql_query(query, conn)\n"
   ]
  },
  {
   "cell_type": "code",
   "execution_count": 18,
   "metadata": {},
   "outputs": [],
   "source": [
    "# Unir las tablas apicall y commerce\n",
    "df = pd.merge(df_apicall, df_commerce, on='commerce_id')\n",
    "\n",
    "# Filtrar solo las empresas activas\n",
    "df = df[df['commerce_status'] == 'Active']\n",
    "\n",
    "df['date_api_call'] = pd.to_datetime(df['date_api_call'])\n",
    "#Cambiamos el tipo de datos a fecha ya que en un principio es  de tipo object\n",
    "\n",
    "# Filtrar por julio y agosto de 2024\n",
    "df = df[\n",
    "    (df['date_api_call'].dt.month.isin([7, 8])) &\n",
    "    (df['date_api_call'].dt.year == 2024)\n",
    "]"
   ]
  },
  {
   "cell_type": "code",
   "execution_count": 31,
   "metadata": {},
   "outputs": [
    {
     "name": "stdout",
     "output_type": "stream",
     "text": [
      "FusionWave Enterprises - Comisión: 3312000.0, IVA: 684000.0, Valor Total: 3996000.0\n"
     ]
    }
   ],
   "source": [
    "def calcular_comision(empresa, peticiones_exitosas, peticiones_no_exitosas):\n",
    "    comision = 0\n",
    "\n",
    "    # Calculamos la comisión base\n",
    "    if empresa == \"Innovexa Solutions\":\n",
    "        comision = peticiones_exitosas * 300\n",
    "    elif empresa == \"NexaTech Industries\":\n",
    "        if 0<= peticiones_exitosas <= 10000:\n",
    "            comision = peticiones_exitosas * 250\n",
    "        elif 10001 <= peticiones_exitosas <= 20000:\n",
    "            comision = peticiones_exitosas * 200\n",
    "        else:\n",
    "            comision = peticiones_exitosas * 170\n",
    "    elif empresa == \"QuantumLeap Inc.\":\n",
    "        comision = peticiones_exitosas * 600\n",
    "    elif empresa == \"Zenith Corp.\":\n",
    "        if 0<= peticiones_exitosas <= 22000:\n",
    "            comision = peticiones_exitosas * 250\n",
    "        else:\n",
    "            comision = peticiones_exitosas * 130\n",
    "    elif empresa == \"FusionWave Enterprises\":\n",
    "        comision = peticiones_exitosas * 300\n",
    "\n",
    "    # Calculamos el iva (antes de aplicar descuentos)\n",
    "    iva = comision * 0.19\n",
    "\n",
    "    # Aplicamos descuentos sobre la comisión\n",
    "    if empresa == \"Zenith Corp.\" and peticiones_no_exitosas > 6000:\n",
    "        descuento = comision * 0.05\n",
    "        comision -= descuento\n",
    "    elif empresa == \"FusionWave Enterprises\":\n",
    "        if 2500 <= peticiones_no_exitosas <= 4500:\n",
    "            descuento = comision * 0.05\n",
    "            comision -= descuento\n",
    "        elif peticiones_no_exitosas > 4500:\n",
    "            descuento = comision * 0.08\n",
    "            comision -= descuento\n",
    "\n",
    "    # Calculamos el valor total\n",
    "    valor_total = comision + iva\n",
    "\n",
    "    # Retornamos la comisión, el IVA y el valor total\n",
    "    return comision, iva, valor_total\n",
    "\n",
    "\n",
    "# Ejemplo 3: FusionWave Enterprises con descuento\n",
    "comision, iva, valor_total = calcular_comision(\"FusionWave Enterprises\", 12000, 5000)\n",
    "print(f\"FusionWave Enterprises - Comisión: {comision}, IVA: {iva}, Valor Total: {valor_total}\")"
   ]
  },
  {
   "cell_type": "code",
   "execution_count": 35,
   "metadata": {},
   "outputs": [
    {
     "name": "stdout",
     "output_type": "stream",
     "text": [
      "FusionWave Enterprises - Comisión: 5595500.0, IVA: 1063145.0, Valor Total: 6658645.0\n"
     ]
    }
   ],
   "source": [
    "def calcular_comision(empresa, peticiones_exitosas, peticiones_no_exitosas):\n",
    "    comision = 0\n",
    "\n",
    "    # Calculamos la comisión base según el contrato de la empresa\n",
    "    if empresa == \"Innovexa Solutions\":\n",
    "        comision = peticiones_exitosas * 300\n",
    "    elif empresa == \"NexaTech Industries\":\n",
    "        if peticiones_exitosas <= 10000:\n",
    "            comision = peticiones_exitosas * 250\n",
    "        elif 10001 <= peticiones_exitosas <= 20000:\n",
    "            comision = (10000 * 250) + ((peticiones_exitosas - 10000) * 200)\n",
    "        else:\n",
    "            comision = (10000 * 250) + (10000 * 200) + ((peticiones_exitosas - 20000) * 170)\n",
    "    elif empresa == \"QuantumLeap Inc.\":\n",
    "        comision = peticiones_exitosas * 600\n",
    "    elif empresa == \"Zenith Corp.\":\n",
    "        if peticiones_exitosas <= 22000:\n",
    "            comision = peticiones_exitosas * 250\n",
    "        else:\n",
    "            comision = (22000 * 250) + ((peticiones_exitosas - 22000) * 130)\n",
    "    elif empresa == \"FusionWave Enterprises\":\n",
    "        comision = peticiones_exitosas * 300\n",
    "\n",
    "    # Calculamos el IVA (19% sobre la comisión)\n",
    "    #iva = comision * 0.19\n",
    "\n",
    "    # Aplicamos descuentos sobre la comisión (antes de IVA)\n",
    "    if empresa == \"Zenith Corp.\" and peticiones_no_exitosas > 6000:\n",
    "        descuento = comision * 0.05\n",
    "        comision -= descuento\n",
    "    elif empresa == \"FusionWave Enterprises\":\n",
    "        if 2500 <= peticiones_no_exitosas <= 4500:\n",
    "            descuento = comision * 0.05\n",
    "            comision -= descuento\n",
    "        elif peticiones_no_exitosas > 4500:\n",
    "            descuento = comision * 0.08\n",
    "            comision -= descuento\n",
    "\n",
    "\n",
    "    # Calculamos el valor total (comisión + IVA)\n",
    "    valor_total = comision + iva\n",
    "\n",
    "    # Retornamos la comisión, el IVA y el valor total\n",
    "    return comision, iva, valor_total\n",
    "\n",
    "# Ejemplo 3: FusionWave Enterprises con descuento\n",
    "comision, iva, valor_total = calcular_comision(\"Zenith Corp.\", 25000, 7000)\n",
    "print(f\"FusionWave Enterprises - Comisión: {comision}, IVA: {iva}, Valor Total: {valor_total}\")"
   ]
  },
  {
   "cell_type": "code",
   "execution_count": 37,
   "metadata": {},
   "outputs": [
    {
     "name": "stdout",
     "output_type": "stream",
     "text": [
      "FusionWave Enterprises - Comisión: 3312000.0, IVA: 629280.0, Valor Total: 3941280.0\n"
     ]
    }
   ],
   "source": [
    "def calcular_comision(empresa, peticiones_exitosas, peticiones_no_exitosas):\n",
    "    comision = 0\n",
    "\n",
    "    # Calculamos la comisión base según el contrato de la empresa\n",
    "    if empresa == \"Innovexa Solutions\":\n",
    "        comision = peticiones_exitosas * 300\n",
    "    elif empresa == \"NexaTech Industries\":\n",
    "        if peticiones_exitosas <= 10000:\n",
    "            comision = peticiones_exitosas * 250\n",
    "        elif 10001 <= peticiones_exitosas <= 20000:\n",
    "            comision = (10000 * 250) + ((peticiones_exitosas - 10000) * 200)\n",
    "        else:\n",
    "            comision = (10000 * 250) + (10000 * 200) + ((peticiones_exitosas - 20000) * 170)\n",
    "    elif empresa == \"QuantumLeap Inc.\":\n",
    "        comision = peticiones_exitosas * 600\n",
    "    elif empresa == \"Zenith Corp.\":\n",
    "        if peticiones_exitosas <= 22000:\n",
    "            comision = peticiones_exitosas * 250\n",
    "        else:\n",
    "            comision = (22000 * 250) + ((peticiones_exitosas - 22000) * 130)\n",
    "    elif empresa == \"FusionWave Enterprises\":\n",
    "        comision = peticiones_exitosas * 300\n",
    "\n",
    "    # Aplicamos descuentos sobre la comisión (antes de calcular el IVA)\n",
    "    if empresa == \"Zenith Corp.\" and peticiones_no_exitosas > 6000:\n",
    "        descuento = comision * 0.05\n",
    "        comision -= descuento\n",
    "    elif empresa == \"FusionWave Enterprises\":\n",
    "        if 2500 <= peticiones_no_exitosas <= 4500:\n",
    "            descuento = comision * 0.05\n",
    "            comision -= descuento\n",
    "        elif peticiones_no_exitosas > 4500:\n",
    "            descuento = comision * 0.08\n",
    "            comision -= descuento\n",
    "\n",
    "    # Calculamos el IVA (19% sobre la comisión final)\n",
    "    iva = comision * 0.19\n",
    "\n",
    "    # Calculamos el valor total (comisión + IVA)\n",
    "    valor_total = comision + iva\n",
    "\n",
    "    # Retornamos la comisión, el IVA y el valor total\n",
    "    return comision, iva, valor_total\n",
    "\n",
    "# Ejemplo 3: FusionWave Enterprises con descuento\n",
    "comision, iva, valor_total = calcular_comision(\"FusionWave Enterprises\", 12000, 5000)\n",
    "print(f\"FusionWave Enterprises - Comisión: {comision}, IVA: {iva}, Valor Total: {valor_total}\")\n"
   ]
  },
  {
   "cell_type": "code",
   "execution_count": 20,
   "metadata": {},
   "outputs": [],
   "source": [
    "# Cerrar la conexión a la base de datos\n",
    "conn.close()"
   ]
  }
 ],
 "metadata": {
  "kernelspec": {
   "display_name": ".venv",
   "language": "python",
   "name": "python3"
  },
  "language_info": {
   "codemirror_mode": {
    "name": "ipython",
    "version": 3
   },
   "file_extension": ".py",
   "mimetype": "text/x-python",
   "name": "python",
   "nbconvert_exporter": "python",
   "pygments_lexer": "ipython3",
   "version": "3.13.1"
  }
 },
 "nbformat": 4,
 "nbformat_minor": 2
}
